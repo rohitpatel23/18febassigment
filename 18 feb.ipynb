{
 "cells": [
  {
   "cell_type": "code",
   "execution_count": 1,
   "id": "d147f174-093d-4f6b-88ad-28027a39394b",
   "metadata": {},
   "outputs": [],
   "source": [
    "#Q1. What is an API? Give an example, where an API is used in real life."
   ]
  },
  {
   "cell_type": "code",
   "execution_count": 3,
   "id": "22039b24-0133-4913-ae13-db11ab3fa147",
   "metadata": {},
   "outputs": [],
   "source": [
    "#API stands for an application programming interface. It means making a business service or enterprise asset available to those developing an app.\n",
    "#Application Programming Interface (API) is a software interface that allows two applications to interact with each other without any user intervention. API is a collection of software functions and procedures\n",
    "#example of api\n",
    "#google map navigation\n",
    "#amazon api for product imformation\n",
    "# There are  many uses of api in a real life for example we can use api in many application to perform a task "
   ]
  },
  {
   "cell_type": "code",
   "execution_count": 4,
   "id": "0a9b5eaf-3125-44b6-a33b-c920b76986d3",
   "metadata": {},
   "outputs": [],
   "source": [
    "#Q2. Give advantages and disadvantages of using API."
   ]
  },
  {
   "cell_type": "code",
   "execution_count": 5,
   "id": "342cdece-a2f3-4508-b3b9-e546a57b298e",
   "metadata": {},
   "outputs": [],
   "source": [
    "#advantage of API\n",
    "#automation\n",
    "#more scope\n",
    "#efficiency\n",
    "#adoption\n",
    "#new data available\n",
    "#Disadvantage of API\n",
    "#maintenance cost is very high . \n",
    "# it can crash when testing API\n",
    "# creating API is a very time - consuming process .\n"
   ]
  },
  {
   "cell_type": "code",
   "execution_count": 6,
   "id": "19039200-9c8a-462b-9f96-a3b68014bed5",
   "metadata": {},
   "outputs": [],
   "source": [
    "#Q3. What is a Web API? Differentiate between API and Web API."
   ]
  },
  {
   "cell_type": "code",
   "execution_count": 2,
   "id": "a2123123-e1f6-4598-a259-70d00a0c063e",
   "metadata": {},
   "outputs": [],
   "source": [
    "#Web API is back-end application (server side) where actual functionality to call service/database call is happening to store and retrieve the data.\n",
    "#Difference b/w API and web APIp\n",
    "# complex \n"
   ]
  },
  {
   "cell_type": "code",
   "execution_count": 3,
   "id": "1c76bbc2-7ff5-448b-8429-846a31baec33",
   "metadata": {},
   "outputs": [],
   "source": [
    "#Q4. Explain REST and SOAP Architecture. Mention shortcomings of SOAP."
   ]
  },
  {
   "cell_type": "code",
   "execution_count": 4,
   "id": "9e21624f-dfe1-440e-980f-0e765bf434f8",
   "metadata": {},
   "outputs": [],
   "source": [
    "# Rest architecture are based on the web architecpture , web transing . in rest architecture with the help of \n",
    "#http we can update , insert ,  delete and retrive data . it is simple \n",
    "\n",
    "#soap architecture are based on XML and it use the WSDL and it support the http ,tcp/ip, smtp , it is difficult to implment\n",
    "# it is data security based architecture \n",
    "\n",
    "#SOAP, which stands for Simple Object Access Protocol, is a highly strict and secure way to build APIs that encodes data in XML. "
   ]
  },
  {
   "cell_type": "code",
   "execution_count": 5,
   "id": "9216cfd1-2362-4830-9b10-44b871d77bda",
   "metadata": {},
   "outputs": [],
   "source": [
    "#Q5. Differentiate between REST and SOAP."
   ]
  },
  {
   "cell_type": "code",
   "execution_count": 6,
   "id": "090c2fa0-df98-42d1-a893-bc2b82f7c0e0",
   "metadata": {},
   "outputs": [],
   "source": [
    "# REST architecture\n",
    "#it is simple to implement \n",
    "# it is based on web architecture \n",
    "# it is not  data security based architecture\n",
    "\n",
    "#SOAP architecture \n",
    "# it is difficult to implement \n",
    "#it is based on XML\n",
    "# it is data security based architecture "
   ]
  },
  {
   "cell_type": "code",
   "execution_count": null,
   "id": "c5e233c1-c256-4316-91e7-fa8e57f24310",
   "metadata": {},
   "outputs": [],
   "source": []
  }
 ],
 "metadata": {
  "kernelspec": {
   "display_name": "Python 3 (ipykernel)",
   "language": "python",
   "name": "python3"
  },
  "language_info": {
   "codemirror_mode": {
    "name": "ipython",
    "version": 3
   },
   "file_extension": ".py",
   "mimetype": "text/x-python",
   "name": "python",
   "nbconvert_exporter": "python",
   "pygments_lexer": "ipython3",
   "version": "3.10.8"
  }
 },
 "nbformat": 4,
 "nbformat_minor": 5
}
